{
  "cells": [
    {
      "cell_type": "markdown",
      "metadata": {
        "id": "view-in-github",
        "colab_type": "text"
      },
      "source": [
        "<a href=\"https://colab.research.google.com/github/klaudioc/Python/blob/main/CursoPython.ipynb\" target=\"_parent\"><img src=\"https://colab.research.google.com/assets/colab-badge.svg\" alt=\"Open In Colab\"/></a>"
      ]
    },
    {
      "cell_type": "markdown",
      "metadata": {
        "id": "FRoM5Wcotzxc"
      },
      "source": [
        "\n",
        "#  Curso de Python - Cefet/RJ Campus Angra dos Reis \n",
        "\n",
        "Professor Cláudio Corrêa <br>\n",
        "Professor Paulo Victor\n"
      ]
    },
    {
      "cell_type": "markdown",
      "metadata": {
        "id": "QkD3XWhOup1T"
      },
      "source": [
        "## Ementa: \n",
        "\n",
        "*Aula 1:*\n",
        "* hello world!\n",
        "* Instalação do Anaconda e Colab\n",
        "* Apresentação da linguagem Python e do Python Notebook\n",
        "* tipos de variáveis\n",
        "* operações básicas\n",
        "\n",
        "*Aula 2*\n",
        "* listas\n",
        "* tuples\n",
        "* dicionários\n",
        "* loops\n",
        "\t* for\n",
        "\t* while\n",
        "\t* if\n",
        "* palavras reservadas\n",
        "\n",
        "*Aula 3:*\n",
        "* funções\n",
        "* instalação de pacotes\n",
        "* NumPy\n",
        "\t* criação de vetores e matrizes\n",
        "\t* operações com vetores e matrizes\n",
        "\t* Aplicações\n",
        "\n",
        "*Aula 4:*\n",
        "* Pandas\n",
        "\t* leitura de dados\n",
        "\t* importação de dados\n",
        "\t* manipulação de dados\n",
        "\n",
        "*Aula 5:*\n",
        "* Matplotlib\n",
        "\t* plotagem dos resultados das aulas anteriores\n",
        "\t* plot 2D\n",
        "\t* Plot 3D\n",
        "\t* Plotagem paramétrica\n",
        "*Sympy\n"
      ]
    },
    {
      "cell_type": "markdown",
      "metadata": {
        "id": "_HEgwk8Gu8V8"
      },
      "source": [
        "# Aula 1"
      ]
    },
    {
      "cell_type": "markdown",
      "metadata": {
        "id": "lk7RhOWgwM0i"
      },
      "source": [
        "## Hello World!"
      ]
    },
    {
      "cell_type": "code",
      "execution_count": null,
      "metadata": {
        "id": "T6TgdvWHwCrD"
      },
      "outputs": [],
      "source": [
        "print('Hello World!')"
      ]
    },
    {
      "cell_type": "markdown",
      "metadata": {
        "id": "-J0IU5UFLGZl"
      },
      "source": [
        "## Instalação do Anaconda e Colab"
      ]
    },
    {
      "cell_type": "markdown",
      "metadata": {
        "id": "ruusCGiIw_fK"
      },
      "source": [
        "\n",
        "\n",
        "[site do anaconda](anaconda.com)\n",
        "\n",
        "[Google Colab](colab.research.google.com/)"
      ]
    },
    {
      "cell_type": "markdown",
      "metadata": {
        "id": "4ufVQz3Rx2jZ"
      },
      "source": [
        "## Apresentação da linguagem Python e dos Python Notebooks\n",
        "\n",
        "\n",
        "\n"
      ]
    },
    {
      "cell_type": "markdown",
      "metadata": {
        "id": "yxI7eTpo5gmy"
      },
      "source": [
        "[Ranking das linguagens de programação mais populares](https://www.tiobe.com/tiobe-index/)\n",
        "\n",
        "Por que Python?\n",
        "* Python é uma linguagem de escrita fácil;\n",
        "* É utilizada para diversos propósitos, como por exemplo: construção de aplicativos web, criação de jogos e ciência de dados;\n",
        "* Possui uma comumidade ampla e acolhedora. \n",
        "\n",
        "Python (Piton)??\n",
        "![](http://mtdiario.com.br/wp-content/uploads/2021/04/13-14.jpeg)\n",
        "\n",
        "Python é uma **linguagem de alto nível** criada em 1992 por Guido van Rossum. O nome python é uma homenagem ao Monty Python, grupo de humor britânico.\n",
        "\n",
        "<iframe width=\"560\" height=\"315\" src=\"https://www.youtube.com/embed/s0BMfPZCQbI\" title=\"YouTube video player\" frameborder=\"0\" allow=\"accelerometer; autoplay; clipboard-write; encrypted-media; gyroscope; picture-in-picture\" allowfullscreen></iframe>"
      ]
    },
    {
      "cell_type": "code",
      "execution_count": null,
      "metadata": {
        "cellView": "form",
        "id": "JnMCCvR496NF"
      },
      "outputs": [],
      "source": [
        ""
      ]
    },
    {
      "cell_type": "markdown",
      "metadata": {
        "id": "IfcQJ3yv_CTn"
      },
      "source": [
        "Os *Python Notebooks* são um ambiente interativo de computação, neles é possível combinar execução de código, *rich text*, plots e mídia.  "
      ]
    },
    {
      "cell_type": "code",
      "execution_count": null,
      "metadata": {
        "id": "v8xbflTv_7ri"
      },
      "outputs": [],
      "source": [
        "x = 5**32 # esta é uma célula de código\n",
        "x"
      ]
    },
    {
      "cell_type": "markdown",
      "metadata": {
        "id": "JUtdULO7jnKd"
      },
      "source": [
        "Esta é uma célula de texto\n",
        "\n",
        "Na célula de texto é possível inserir título, listas, figuras, equações e etc.\n",
        "\n",
        "Os textos são escritos utilizando a linguagem Markdown. "
      ]
    },
    {
      "cell_type": "markdown",
      "metadata": {
        "id": "JjXDtwNLjvq_"
      },
      "source": [
        "`# Isto é um título`\n",
        "\n",
        "`# Isto um subtítulo`\n",
        "\n",
        "`### Isto é um subsubtítulo`\n"
      ]
    },
    {
      "cell_type": "markdown",
      "metadata": {
        "id": "wIW4nW0WjyIA"
      },
      "source": [
        "Uma lista:\n",
        "\n",
        "\n",
        "\n",
        "```\n",
        "* item 1 \n",
        "* item 2\n",
        "  * sub item 1\n",
        "  * sub item 2\n",
        "* item 3\n",
        "```\n",
        "Resultado: \n",
        "\n",
        "* item 1 \n",
        "* item 2\n",
        "  * sub item 1\n",
        "  * sub item 2\n",
        "* item 3\n",
        "\n",
        "\n",
        "Lista numerada:\n",
        "\n",
        "```\n",
        "1. item 1\n",
        "2. item 2\n",
        "3. item 3\n",
        "5. item 4\n",
        "99. item 5\n",
        "```\n",
        "Resultado: \n",
        "\n",
        "1. item 1\n",
        "2. item 2\n",
        "3. item 3\n",
        "5. item 4\n",
        "99. item 5"
      ]
    },
    {
      "cell_type": "markdown",
      "metadata": {
        "id": "B-8P4PCFkF34"
      },
      "source": [
        "Ênfase: \n",
        "\n",
        "`**negrito**` -> **negrito**\n",
        "\n",
        "`*itálico*` ->  *itálico*\n",
        "\n",
        "`~riscado~` -> ~itálico~"
      ]
    },
    {
      "cell_type": "markdown",
      "metadata": {
        "id": "qHft5VnXkc-b"
      },
      "source": [
        "\n",
        "Parágrafo:\n",
        "\n",
        "```\n",
        "blablablablabla\n",
        "\n",
        "blablablablabla\n",
        "\n",
        "```\n",
        "Ou`\n",
        "\n",
        "```\n",
        "blablablablabla <p>\n",
        "blablablablabla\n",
        "```\n",
        "\n",
        "Resultado:\n",
        "\n",
        "blablablablabla\n",
        "\n",
        "blablablablabla\n",
        "\n",
        "\n",
        "\n",
        "Quebra de linha: \n",
        "\n",
        "```\n",
        "Isto\n",
        "não\n",
        "é \n",
        "uma\n",
        "quebra \n",
        "de \n",
        "linha\n",
        "```\n",
        "Resultado:\n",
        "\n",
        "Isto\n",
        "não\n",
        "é \n",
        "uma\n",
        "quebra \n",
        "de \n",
        "linha\n",
        "\n",
        "Isto é um quebra de linha:\n",
        "Use um espaço duplo no final da primeira linha\n",
        "\n",
        "Ou: <br>\n",
        "Escreva ``<br>`` entre após a primeira linha"
      ]
    },
    {
      "cell_type": "markdown",
      "metadata": {
        "id": "4hcE4iF7lRVM"
      },
      "source": [
        "Para inserir figuras use o comando `(nome para a figura)[link ou endereço da imagem(caso ela esteja salva no seu pc)\n",
        "\n",
        "![Cefet/RJ](https://www.cursoseprofissoes.com/wp-content/uploads/2016/01/cefet-rj-cursos.jpg) \n",
        "\n",
        "Para centralizar uma imagem uma das formas de realizar é através da tag `<center> <img src=\"link da imagem\" width=comprimento height=altura> <center>`\n",
        "<br> <br>\n",
        "<center> <img \n",
        "     src=\"https://www.cursoseprofissoes.com/wp-content/uploads/2016/01/cefet-rj-cursos.jpg\"\n",
        "     width=\"300\"\n",
        "     height=\"200\"\n",
        "     alt=\"Figura de exemplo\"\n",
        "     > <br> <center>\n",
        "\n",
        "Para inserir um link use o comando `[nome para o link](link)` <br>\n",
        "Para centralizar um texto ou um link utilize a tag `<center>`\n",
        "\n",
        "<center> [site do Cefet/RJ](http://www.cefet-rj.br/index.php) <center>"
      ]
    },
    {
      "cell_type": "markdown",
      "metadata": {
        "id": "_xT7U9DFlfE5"
      },
      "source": [
        "Tabelas:\n",
        "\n",
        "````\n",
        "| Carros velozes | Cor | Ano |\n",
        "| ----  | --- | --- |\n",
        "| Camaro | Amarelo | 2016 |\n",
        "| Lancer | Vermelho | 2020 |\n",
        "| Fiat uno com escada em cima | branco | 1995 |\n",
        "````\n",
        "\n",
        "| Carros velozes | Cor | Ano |\n",
        "| --- | --- | ---|\n",
        "| Camaro | Amarelo | 2016 |\n",
        "| Lancer | Vermelho | 2020 |\n",
        "| Fiat uno com escada em cima | branco | 1995 |"
      ]
    },
    {
      "cell_type": "markdown",
      "metadata": {
        "id": "eJj2jM9mlnr_"
      },
      "source": [
        "\n",
        "É possível escrever equações utilizando os comandos de $\\LaTeX$:  \n",
        "Equação na mesma linha $y = \\int x dx$`\n",
        "\n",
        "\n",
        "Equação em outra linha: \n",
        "\n",
        "$$y = \\int x dx$$\n",
        "\n",
        "ou\n",
        "\n",
        "<center>\n",
        "$ Y = ∮ x d Ω$"
      ]
    },
    {
      "cell_type": "markdown",
      "metadata": {
        "id": "dHsuGyEm_0nC"
      },
      "source": [
        "\n",
        "Linha horizontal `---`\n",
        "\n",
        "---\n"
      ]
    },
    {
      "cell_type": "markdown",
      "metadata": {
        "id": "jlY3x7UjpqQg"
      },
      "source": [
        "#Operadores\n",
        "A linguagem Python fornece um conjunto de operadores artiméticos, que inclui os operadores binários para as quatro operações matemáticas básicas entre outros, tais como: <br>\n",
        "<br>\n",
        "**Operadores Unários** – Aceitam só um operando. Em Python, eles são -, +, ~, not (negação unária, positivo unário, negação bitwise e negação lógica). Observe que a linguagem Python não tem os operadores unários de adição ++ e subtração -- encontrados em outras linguagens, como C e Java.\n",
        "\n",
        "**Operadores Binários** – Utilizam dois operandos para formar uma expressão.\n",
        "\n",
        "**Operadores Ternários** – Também conhecidos como expressões condicionais ou “if ternário python“, precisam de dois operandos e uma expressão. Têm a forma:  `<operando1> if <expressão> else <operando2>`.\n",
        "\n",
        "Operadores binários para operações aritméticas básicas:\n",
        "* \"+\" adição <br>\n",
        "* \"-\" subtração <br>\n",
        "* \"*\" multiplicação <br>\n",
        "* \"/\" divisão <br>\n",
        "* \"**\" potenciação.\n",
        "\n",
        "Podemos ter ainda os operadores:\n",
        "* \"//\" divisão inteira --> Divide o 1º operando (dividendo) pelo 2º operando (divisor) e retorna o valor inteiro sempre arredondado para baixo.\n",
        "* \"%\" módulo --> Retorna o resto da divisão inteira do 1º operando (dividendo) pelo 2º operando (divisor). Em Python este operador sempre retorna o resultado com mesmo sinal do divisor. \n",
        "\n",
        "**Obs: Os operadores são símbolos que servem para manipular valores, atribuir resultados de operações, fazer comparações e tomar decisões lógicas.**"
      ]
    },
    {
      "cell_type": "code",
      "execution_count": null,
      "metadata": {
        "id": "B7rmlpQxG9TV"
      },
      "outputs": [],
      "source": [
        "#Operadores Unários\n",
        "x = True\n",
        "y = not x\n",
        "y"
      ]
    },
    {
      "cell_type": "code",
      "execution_count": null,
      "metadata": {
        "id": "KfjHQvoAHioM"
      },
      "outputs": [],
      "source": [
        "#Operadores Unários\n",
        "a =9\n",
        "b = -a\n",
        "b"
      ]
    },
    {
      "cell_type": "code",
      "execution_count": null,
      "metadata": {
        "id": "2KDA06YQHpTu"
      },
      "outputs": [],
      "source": [
        "# Operadores binários\n",
        "a = 0.1\n",
        "b = 2\n",
        "a / b"
      ]
    },
    {
      "cell_type": "code",
      "execution_count": null,
      "metadata": {
        "id": "mjgryAcOIFCd"
      },
      "outputs": [],
      "source": [
        "# Operadores binários\n",
        "x = True\n",
        "y = False\n",
        "x or y"
      ]
    },
    {
      "cell_type": "code",
      "execution_count": null,
      "metadata": {
        "id": "mEGss2drLkMo"
      },
      "outputs": [],
      "source": [
        "x = 11\n",
        "y = 17\n",
        "x + y"
      ]
    },
    {
      "cell_type": "code",
      "execution_count": null,
      "metadata": {
        "id": "rCudXX_FLtOd"
      },
      "outputs": [],
      "source": [
        "x - y"
      ]
    },
    {
      "cell_type": "code",
      "execution_count": null,
      "metadata": {
        "id": "Hh3ywMbJLvfV"
      },
      "outputs": [],
      "source": [
        "x // y    # divisão inteira"
      ]
    },
    {
      "cell_type": "code",
      "execution_count": null,
      "metadata": {
        "id": "bZ_uCdwRL0AN"
      },
      "outputs": [],
      "source": [
        "x % y     # módulo"
      ]
    },
    {
      "cell_type": "code",
      "execution_count": null,
      "metadata": {
        "id": "cEzMh_dZL393"
      },
      "outputs": [],
      "source": [
        "y % x    # módulo"
      ]
    },
    {
      "cell_type": "code",
      "execution_count": null,
      "metadata": {
        "id": "o_JqMmk4L8kT"
      },
      "outputs": [],
      "source": [
        "z = -y\n",
        "x // z    # divisão inteira"
      ]
    },
    {
      "cell_type": "code",
      "execution_count": null,
      "metadata": {
        "id": "9f9t-CwVMv0s"
      },
      "outputs": [],
      "source": [
        "x % z"
      ]
    },
    {
      "cell_type": "markdown",
      "metadata": {
        "id": "c0uBRnHMNEYG"
      },
      "source": [
        "# Mais um pouco de conversa sobre operadores !!!\n",
        "Alguns operadores aritméticos são semelhantes aqueles utilizados na matemática básica, por isso são mais simples, como vimos acima nos exemplos!\n",
        "\n",
        "Os operadores relacionais são conhecidos como operadores de comparação.\n",
        "Sua característica é ser binário e sempre retornar como valores, TRUE ou FALSE.<br>\n",
        "São utilizados em estruturas de controle de \"fluxo\" do programa, como \"*if*\" e \"*while*\".\n",
        "\n"
      ]
    },
    {
      "cell_type": "markdown",
      "metadata": {
        "id": "h3_gxolWYq9a"
      },
      "source": [
        "## Tipos de variáveis\n",
        "\n",
        "Podemos classificar as variáveis em quatro tipos:\n",
        "\n",
        "* inteiros (integer)\n",
        "* pontos flutantes (float)\n",
        "* dados lógicos (boolean)\n",
        "* cadeia de caracteres (strings)\n",
        "\n",
        "Podemos usar o comando type para identificar as variáveis.\n",
        "\n",
        "\n",
        "\n",
        "\n",
        "\n"
      ]
    },
    {
      "cell_type": "code",
      "execution_count": null,
      "metadata": {
        "id": "VbdQKMI-YlVs"
      },
      "outputs": [],
      "source": [
        "type(5)"
      ]
    },
    {
      "cell_type": "code",
      "execution_count": null,
      "metadata": {
        "id": "hsDzvdsUbJ-L"
      },
      "outputs": [],
      "source": [
        "type(2.35)"
      ]
    },
    {
      "cell_type": "code",
      "execution_count": null,
      "metadata": {
        "collapsed": true,
        "id": "Kx3tP0itbN1u"
      },
      "outputs": [],
      "source": [
        "type('abc123')"
      ]
    },
    {
      "cell_type": "code",
      "execution_count": null,
      "metadata": {
        "collapsed": true,
        "id": "J3F5207kbQbh"
      },
      "outputs": [],
      "source": [
        "type(True)"
      ]
    },
    {
      "cell_type": "markdown",
      "metadata": {
        "id": "bG7WiSzxbZ2o"
      },
      "source": [
        "Podemos converter alguns tipos de variáveis"
      ]
    },
    {
      "cell_type": "code",
      "execution_count": null,
      "metadata": {
        "collapsed": true,
        "id": "G3VP5iGJbSjJ"
      },
      "outputs": [],
      "source": [
        "float(5)"
      ]
    },
    {
      "cell_type": "code",
      "execution_count": null,
      "metadata": {
        "collapsed": true,
        "id": "VFRoz6CxbjcU"
      },
      "outputs": [],
      "source": [
        "type(float(5))"
      ]
    },
    {
      "cell_type": "code",
      "execution_count": null,
      "metadata": {
        "collapsed": true,
        "id": "ndSWsD3qbngq"
      },
      "outputs": [],
      "source": [
        "int(3.8567)"
      ]
    },
    {
      "cell_type": "code",
      "execution_count": null,
      "metadata": {
        "collapsed": true,
        "id": "jkCCyKxxbxtp"
      },
      "outputs": [],
      "source": [
        "int(True)"
      ]
    },
    {
      "cell_type": "code",
      "execution_count": null,
      "metadata": {
        "collapsed": true,
        "id": "2ZKv261cbsIz"
      },
      "outputs": [],
      "source": [
        "str(83.8)"
      ]
    },
    {
      "cell_type": "code",
      "execution_count": null,
      "metadata": {
        "collapsed": true,
        "id": "FYMFfH5Wbvvj"
      },
      "outputs": [],
      "source": [
        "bool(0)"
      ]
    },
    {
      "cell_type": "markdown",
      "metadata": {
        "id": "7a9ewGUweBBG"
      },
      "source": [
        "Podemos criar variáveis para armazenar dados e realizar operações:"
      ]
    },
    {
      "cell_type": "code",
      "execution_count": null,
      "metadata": {
        "collapsed": true,
        "id": "ExajIDxRd2vA"
      },
      "outputs": [],
      "source": [
        "x = 10\n",
        "y = 3*5 -2 \n",
        "z = x**y/y\n",
        "z"
      ]
    },
    {
      "cell_type": "code",
      "execution_count": null,
      "metadata": {
        "collapsed": true,
        "id": "06j-60ZYeOUt"
      },
      "outputs": [],
      "source": [
        "print(y)"
      ]
    },
    {
      "cell_type": "markdown",
      "metadata": {
        "id": "i8gKC4udl-1J"
      },
      "source": [
        "Para apagar uma variável use o comando `del`"
      ]
    },
    {
      "cell_type": "code",
      "execution_count": null,
      "metadata": {
        "id": "cGo8g-2AeW8T"
      },
      "outputs": [],
      "source": [
        "del y"
      ]
    },
    {
      "cell_type": "code",
      "execution_count": null,
      "metadata": {
        "collapsed": true,
        "id": "jpnBC3Zuer7a"
      },
      "outputs": [],
      "source": [
        "print(y)"
      ]
    },
    {
      "cell_type": "markdown",
      "metadata": {
        "id": "P5qBPMrte2ET"
      },
      "source": [
        "Podemos atualizar o valor de uma variável fazendo com que ela receba ela mesma:"
      ]
    },
    {
      "cell_type": "code",
      "execution_count": null,
      "metadata": {
        "collapsed": true,
        "id": "XQLT5wsGetMy"
      },
      "outputs": [],
      "source": [
        "x = 3\n",
        "x = x + 5\n",
        "x"
      ]
    },
    {
      "cell_type": "markdown",
      "metadata": {
        "id": "rtUZ3MuGig90"
      },
      "source": [
        "Podemos fazer isso de forma mais prática:\n"
      ]
    },
    {
      "cell_type": "code",
      "execution_count": null,
      "metadata": {
        "collapsed": true,
        "id": "XZ4-euaSifAn"
      },
      "outputs": [],
      "source": [
        "x = 3\n",
        "x += 5\n",
        "x"
      ]
    },
    {
      "cell_type": "markdown",
      "metadata": {
        "id": "2qDVgcC4T4r_"
      },
      "source": [
        ""
      ]
    },
    {
      "cell_type": "markdown",
      "metadata": {
        "id": "vYufvsvKUAHd"
      },
      "source": [
        "### Arredondamento de casas decimais\n",
        "Resolva a equação $((50 + 25)*7.2)/3.8$\n"
      ]
    },
    {
      "cell_type": "code",
      "execution_count": null,
      "metadata": {
        "id": "CcfhLXuZl6Hq"
      },
      "outputs": [],
      "source": [
        "50 + 25\n",
        "75*7.2\n",
        "resultadofinal = 540.0/3.8\n",
        "print(resultadofinal)"
      ]
    },
    {
      "cell_type": "markdown",
      "metadata": {
        "id": "IpJURcdcUwb-"
      },
      "source": [
        "O valor *142.10526315789474* é o resultado bruto da equação. <br>\n",
        "  O resultado arredondado da equação é dado pela tag \":.nf\", que define quantas casas decimais serão exibidas após a vírgula, onde n é o número de casas decimais desejadas. <br>\n",
        "\n",
        "Outro modo de realizar o arredondamento de casas decimais é através da função \"round()\", tal que: '{round(equação,2)}'"
      ]
    },
    {
      "cell_type": "code",
      "execution_count": null,
      "metadata": {
        "id": "DHXXgC8WV0wH"
      },
      "outputs": [],
      "source": [
        " print(f'Resultado arredondado é:{resultadofinal:.2f}')"
      ]
    },
    {
      "cell_type": "code",
      "execution_count": null,
      "metadata": {
        "id": "UwW2GcaNW1NE"
      },
      "outputs": [],
      "source": [
        "print(f'O resultado arredondado pela função round() é:{round(resultadofinal,6)}')"
      ]
    },
    {
      "cell_type": "markdown",
      "metadata": {
        "id": "rZPVPx4MKpV8"
      },
      "source": [
        "### Tarefa da primeira aula: \n",
        "1- Crie três variáveis com três tipos de dados diferentes, respeitando sua sintaxe.\n",
        "<br>\n",
        "2- Crie um comentário de no máximo uma linha. <br>\n",
        "3- Crie um comentário de mais de uma linha <br>\n",
        "4- Crie uma váriável nome e atribua para a mesma um nome digitado pelo usuário.<br> \n",
        "5- Resolva a expressão aritmética $3 + (-2) * [\\sqrt(2) - \\frac{56}{2} + (5^2 - 5)]$. Transforme a saída para tipo inteiro e ponto flutuante. <br>\n",
        "6- Imprima o resultado a experssão do item 5, com arredondamento de 3 casas decimais.\n"
      ]
    },
    {
      "cell_type": "markdown",
      "metadata": {
        "id": "178SDKDbYYHB"
      },
      "source": [
        "# Aula 2"
      ]
    },
    {
      "cell_type": "code",
      "execution_count": null,
      "metadata": {
        "id": "K1JZCqs02Rp_"
      },
      "outputs": [],
      "source": [
        "for i in range(0,10):\n",
        "  print('Olá!')"
      ]
    },
    {
      "cell_type": "markdown",
      "metadata": {
        "id": "gWFWz1bE3tVV"
      },
      "source": [
        "O que o comando range faz?  \n",
        "Resposta: Ele cria uma **lista** de números em sequência."
      ]
    },
    {
      "cell_type": "code",
      "execution_count": null,
      "metadata": {
        "id": "gzhQN65r4IyI"
      },
      "outputs": [],
      "source": [
        "x = range(0,10,2)\n",
        "for i in x:\n",
        "  print(i)"
      ]
    },
    {
      "cell_type": "markdown",
      "metadata": {
        "id": "SFx7sVDI8KgH"
      },
      "source": [
        "Lista?"
      ]
    },
    {
      "cell_type": "code",
      "execution_count": null,
      "metadata": {
        "id": "zIMWADGw8INJ"
      },
      "outputs": [],
      "source": [
        "lista_de_mercado = ['arroz','feijão','carne']\n",
        "lista_de_mercado"
      ]
    },
    {
      "cell_type": "code",
      "execution_count": null,
      "metadata": {
        "id": "mkvjnYqK8YZe"
      },
      "outputs": [],
      "source": [
        "lista_de_mercado[0] # Para acessar o primeiro elemento da lista"
      ]
    },
    {
      "cell_type": "code",
      "execution_count": null,
      "metadata": {
        "id": "x6FTJiX_8ezg"
      },
      "outputs": [],
      "source": [
        "lista_de_mercado[-1] # Para acessar o último elemento da lista"
      ]
    },
    {
      "cell_type": "markdown",
      "metadata": {
        "id": "qxagHMHe8njU"
      },
      "source": [
        "Ih, esqueci de adicionar o macarrão! E agora?"
      ]
    },
    {
      "cell_type": "code",
      "execution_count": null,
      "metadata": {
        "id": "ACSZdCuk8mgD"
      },
      "outputs": [],
      "source": [
        "lista_de_mercado.append('macarrão')\n",
        "lista_de_mercado"
      ]
    },
    {
      "cell_type": "markdown",
      "metadata": {
        "id": "2GzjHjEA80hX"
      },
      "source": [
        "Podemos criar uma lista de números:"
      ]
    },
    {
      "cell_type": "code",
      "execution_count": null,
      "metadata": {
        "id": "rfuzM1U18ylw"
      },
      "outputs": [],
      "source": [
        "lista1 = [14,23,24,35]"
      ]
    },
    {
      "cell_type": "code",
      "execution_count": null,
      "metadata": {
        "id": "mY9SdE-R9C-E"
      },
      "outputs": [],
      "source": [
        "sum(lista1) #somatório dos elementos da lista"
      ]
    },
    {
      "cell_type": "code",
      "execution_count": null,
      "metadata": {
        "id": "_pmnjULC9FGL"
      },
      "outputs": [],
      "source": [
        "min(lista1) # valor mínimo da lista"
      ]
    },
    {
      "cell_type": "code",
      "execution_count": null,
      "metadata": {
        "id": "XL-uwzwT9GWV"
      },
      "outputs": [],
      "source": [
        "max(lista1) # valor máximo da lista"
      ]
    },
    {
      "cell_type": "code",
      "execution_count": null,
      "metadata": {
        "id": "qKbIEV4j9Qn_"
      },
      "outputs": [],
      "source": [
        "len(lista1) # tamanho da lista"
      ]
    },
    {
      "cell_type": "markdown",
      "metadata": {
        "id": "5-p_8w5nNgyb"
      },
      "source": [
        "Para retirar um elemento de uma lista:"
      ]
    },
    {
      "cell_type": "code",
      "execution_count": null,
      "metadata": {
        "id": "X706CDAqNgOw"
      },
      "outputs": [],
      "source": [
        "lista1.pop(1)\n",
        "lista1"
      ]
    },
    {
      "cell_type": "markdown",
      "metadata": {
        "id": "nmwjyhFJNs8_"
      },
      "source": [
        "Para organizar a lista em ordem numérica ou alfabética:"
      ]
    },
    {
      "cell_type": "code",
      "execution_count": null,
      "metadata": {
        "id": "GYwQNLXsNwS-"
      },
      "outputs": [],
      "source": [
        "lista_de_mercado"
      ]
    },
    {
      "cell_type": "code",
      "execution_count": null,
      "metadata": {
        "id": "FB6wZdD_OLFc"
      },
      "outputs": [],
      "source": [
        "lista_de_mercado.sort()\n",
        "lista_de_mercado"
      ]
    },
    {
      "cell_type": "markdown",
      "metadata": {
        "id": "bxmOArCFOgFk"
      },
      "source": [
        "Para a ordem invertida:"
      ]
    },
    {
      "cell_type": "code",
      "execution_count": null,
      "metadata": {
        "id": "0aivjKo_Oi0A"
      },
      "outputs": [],
      "source": [
        "lista1.sort(reverse = True)\n",
        "lista1"
      ]
    },
    {
      "cell_type": "markdown",
      "metadata": {
        "id": "GVHzoyJF2QDq"
      },
      "source": [
        "## Loop for"
      ]
    },
    {
      "cell_type": "markdown",
      "metadata": {
        "id": "-i4gGpKY2ScK"
      },
      "source": [
        "* O loop é um estrutura de repetição.\n",
        "* Ninguém gosta de fazer a mesma coisa um monte de vezes, os loops existem para nos ajudar nisso.\n",
        "\n",
        "Os comando dentro do loop for irão rodar um número de vezes especificado. Para o loop rodar, é necessário a criação de uma **variável de iteração**. Essa variável fará o controle do número de vezes que o loop rodou. "
      ]
    },
    {
      "cell_type": "code",
      "execution_count": null,
      "metadata": {
        "id": "rq0VY4u83mcQ"
      },
      "outputs": [],
      "source": [
        "x = range(0,10)\n",
        "for i in x:\n",
        "  print(i)"
      ]
    },
    {
      "cell_type": "code",
      "execution_count": null,
      "metadata": {
        "id": "DYtOX--S9Hmw"
      },
      "outputs": [],
      "source": [
        "for i in lista1:\n",
        "  print(i)"
      ]
    },
    {
      "cell_type": "markdown",
      "metadata": {
        "id": "BkulvTsq9ju2"
      },
      "source": [
        "O comando range cria uma lista sequencial automaticamente, este comando é muito uitilizando no loop for."
      ]
    },
    {
      "cell_type": "code",
      "execution_count": null,
      "metadata": {
        "id": "PhE5wCK09dmG"
      },
      "outputs": [],
      "source": [
        "for i in range(0,5):\n",
        "  print(i)"
      ]
    },
    {
      "cell_type": "code",
      "execution_count": null,
      "metadata": {
        "id": "X99FnYweJlsP"
      },
      "outputs": [],
      "source": [
        "sum(range(0,5))"
      ]
    },
    {
      "cell_type": "code",
      "execution_count": null,
      "metadata": {
        "id": "Ld2ERMwTJqI8"
      },
      "outputs": [],
      "source": [
        ""
      ]
    },
    {
      "cell_type": "markdown",
      "metadata": {
        "id": "27tgTAHbPReO"
      },
      "source": [
        "## Loop while\n",
        "\n",
        "O loop while roda enquanto uma condição for verdadeira:"
      ]
    },
    {
      "cell_type": "code",
      "execution_count": null,
      "metadata": {
        "id": "YmXEGaDgPcIM"
      },
      "outputs": [],
      "source": [
        "x = 0\n",
        "while x < 5:\n",
        "  x+=1\n",
        "  print(x)"
      ]
    },
    {
      "cell_type": "code",
      "execution_count": null,
      "metadata": {
        "id": "HpQ13LkuPpRu"
      },
      "outputs": [],
      "source": [
        "x < 5"
      ]
    },
    {
      "cell_type": "markdown",
      "metadata": {
        "id": "j_R1ete6QZVp"
      },
      "source": [
        "## Operadores Condicionais\n",
        "\n",
        "Podemos executar determinados comandos apenas se certas condições forem antendidas:"
      ]
    },
    {
      "cell_type": "code",
      "execution_count": null,
      "metadata": {
        "id": "lIAYM4aEQVMA"
      },
      "outputs": [],
      "source": [
        "if x >= 5:\n",
        "  print('x é maior ou igual a 5!')"
      ]
    },
    {
      "cell_type": "code",
      "execution_count": null,
      "metadata": {
        "id": "f0MfSi4SSvFW"
      },
      "outputs": [],
      "source": [
        "x = 4\n",
        "if x >= 5:\n",
        "  print('x é maior ou igual a 5!')"
      ]
    },
    {
      "cell_type": "markdown",
      "metadata": {
        "id": "Ev__hn67TC4U"
      },
      "source": [
        "Caso x seja < 5, quero imprimir essa informação:"
      ]
    },
    {
      "cell_type": "code",
      "execution_count": null,
      "metadata": {
        "id": "9l0zuE7YTJpS"
      },
      "outputs": [],
      "source": [
        "if x >= 5:\n",
        "  print('x é maior ou igual a 5!')\n",
        "else:\n",
        "  print('x é menor que 5!')"
      ]
    },
    {
      "cell_type": "markdown",
      "metadata": {
        "id": "axQI7ZB1TXFs"
      },
      "source": [
        "Podemos evoluir o código da seguinte maneira: "
      ]
    },
    {
      "cell_type": "code",
      "execution_count": null,
      "metadata": {
        "id": "6P5wBqbeTgbe"
      },
      "outputs": [],
      "source": [
        "x = 5\n",
        "if x > 5:\n",
        "  print('x é maior que 5')\n",
        "elif x == 5: # else if\n",
        "  print('x é igual a 5')\n",
        "else:\n",
        "  print('x é menor que 5')"
      ]
    },
    {
      "cell_type": "markdown",
      "metadata": {
        "id": "NS2h6xZFVp8W"
      },
      "source": [
        "## Tuples\n",
        "\n",
        "Tuples ou tuplas são listas que não podemos atualizar os valores dos elementos individualmente. "
      ]
    },
    {
      "cell_type": "markdown",
      "metadata": {
        "id": "dkPUbk8pV5EZ"
      },
      "source": [
        "Vamos criar uma lista qualquer:"
      ]
    },
    {
      "cell_type": "code",
      "execution_count": null,
      "metadata": {
        "id": "iK1UyeHzV8pl"
      },
      "outputs": [],
      "source": [
        "lista2 = [4,7,9,2,3,5]"
      ]
    },
    {
      "cell_type": "markdown",
      "metadata": {
        "id": "6E9399RvWDns"
      },
      "source": [
        "Podemos substituir o 7 por 13:"
      ]
    },
    {
      "cell_type": "code",
      "execution_count": null,
      "metadata": {
        "id": "o_LmClpiWHwS"
      },
      "outputs": [],
      "source": [
        "lista2[1] = 13\n",
        "lista2"
      ]
    },
    {
      "cell_type": "markdown",
      "metadata": {
        "id": "xBXbtB7OWMdT"
      },
      "source": [
        "Agora vamos criar um tuple:"
      ]
    },
    {
      "cell_type": "code",
      "execution_count": null,
      "metadata": {
        "id": "j_lJBgRwWOtI"
      },
      "outputs": [],
      "source": [
        "tuple1 = (4,7,9,2,3,5)\n",
        "tuple1"
      ]
    },
    {
      "cell_type": "code",
      "execution_count": null,
      "metadata": {
        "id": "7zyWlnurWWAN"
      },
      "outputs": [],
      "source": [
        "tuple1[1] = 13"
      ]
    },
    {
      "cell_type": "markdown",
      "metadata": {
        "id": "fTd0bJXZWe5P"
      },
      "source": [
        "## Dicionários"
      ]
    },
    {
      "cell_type": "code",
      "execution_count": null,
      "metadata": {
        "id": "ywVpnaDeWtIC"
      },
      "outputs": [],
      "source": [
        "dic1 = {'banana':'fruta','fusca':'carro','cachorro':'animal'}"
      ]
    },
    {
      "cell_type": "code",
      "execution_count": null,
      "metadata": {
        "id": "EEPZYggjW7WH"
      },
      "outputs": [],
      "source": [
        "dic1['banana']"
      ]
    },
    {
      "cell_type": "code",
      "execution_count": null,
      "metadata": {
        "id": "oBwxLCxyXDfm"
      },
      "outputs": [],
      "source": [
        "perfil1 = {'Nome':'Fulano','Idade':50,'Altura':1.75,'Peso':90}"
      ]
    },
    {
      "cell_type": "code",
      "execution_count": null,
      "metadata": {
        "id": "AeUKfiU9XXJW"
      },
      "outputs": [],
      "source": [
        "perfil1['Idade']"
      ]
    },
    {
      "cell_type": "markdown",
      "metadata": {
        "id": "4ZjpyB9KUIfg"
      },
      "source": [
        "Entradas de usuários:"
      ]
    },
    {
      "cell_type": "code",
      "execution_count": null,
      "metadata": {
        "id": "TLqZNL2GUMCC"
      },
      "outputs": [],
      "source": [
        "x = input('Digite um número')\n",
        "print('5 dividido por x é igual a: ' + str(5/float(x)))"
      ]
    },
    {
      "cell_type": "markdown",
      "metadata": {
        "id": "IVao7-g-Uv--"
      },
      "source": [
        "E se um usuário inserir zero?"
      ]
    },
    {
      "cell_type": "code",
      "execution_count": null,
      "metadata": {
        "id": "0ppv4kZIU0Xj"
      },
      "outputs": [],
      "source": [
        "x = input('Digite um número')\n",
        "print('5 dividido por x é igual a: ' + str(5/float(x)))"
      ]
    },
    {
      "cell_type": "code",
      "execution_count": null,
      "metadata": {
        "id": "ut7g8ZlhU4Pe"
      },
      "outputs": [],
      "source": [
        "try:\n",
        "  x = input('Digite um número')\n",
        "  print('5 dividido por x é igual a: ' + str(5/float(x)))\n",
        "except ZeroDivisionError:\n",
        "  print('Não vale colocar zero!')"
      ]
    },
    {
      "cell_type": "markdown",
      "metadata": {
        "id": "LULuu7srXf4a"
      },
      "source": [
        "## Exercícios\n",
        "\n",
        "1. Crie um código que receba o nome, a idade e o peso de um usuário e calcule o seu IMC. "
      ]
    },
    {
      "cell_type": "markdown",
      "metadata": {
        "id": "QTbgWWZOI27i"
      },
      "source": [
        "# Aula 3"
      ]
    },
    {
      "cell_type": "markdown",
      "metadata": {
        "id": "_E1bCG0zLYGA"
      },
      "source": [
        "## Funções\n",
        "\n",
        "Funções são blocos de código nomeados, concebidos para realizar uma tarefa específica. Quando queremos executar uma tarefa em particular, definida em uma função, chamamos o nome da função definida por ela."
      ]
    },
    {
      "cell_type": "code",
      "execution_count": null,
      "metadata": {
        "id": "WOcqe_XjMBHV"
      },
      "outputs": [],
      "source": [
        "def saudacao(nome):\n",
        "  print('Olá ' + nome + '!')"
      ]
    },
    {
      "cell_type": "code",
      "execution_count": null,
      "metadata": {
        "id": "NBZYxccSMM3l"
      },
      "outputs": [],
      "source": [
        "saudacao('Fulano')"
      ]
    },
    {
      "cell_type": "code",
      "execution_count": null,
      "metadata": {
        "id": "n0k_DBy_MUXm"
      },
      "outputs": [],
      "source": [
        "def f(x):\n",
        "  y = x**2 + 5\n",
        "  return y"
      ]
    },
    {
      "cell_type": "code",
      "execution_count": null,
      "metadata": {
        "id": "4dP1jzFLMcCO"
      },
      "outputs": [],
      "source": [
        "f(5)"
      ]
    },
    {
      "cell_type": "markdown",
      "metadata": {
        "id": "6KL9ndKdMfku"
      },
      "source": [
        "Variáveis globais x variáveis locais:"
      ]
    },
    {
      "cell_type": "code",
      "execution_count": null,
      "metadata": {
        "id": "NWtXuHQrMeMX"
      },
      "outputs": [],
      "source": [
        "c1 = 5\n",
        "def f2(x):\n",
        "  y = x**2 + c1 # c1 é uma variável global\n",
        "  return y\n",
        "\n",
        "c1"
      ]
    },
    {
      "cell_type": "code",
      "execution_count": null,
      "metadata": {
        "id": "-8igVgnVbz5K"
      },
      "outputs": [],
      "source": [
        "def f3(x):\n",
        "  c2 = 5\n",
        "  y = x**2 + c2\n",
        "  return y\n",
        "\n",
        "c2 # c2 está definido apenas no escopo da função (variável local)"
      ]
    },
    {
      "cell_type": "markdown",
      "metadata": {
        "id": "iqyo6uozc0kZ"
      },
      "source": [
        "Muitas vezes queremos criar uma função rapidamente, para isso podemos usar as **funções anônimas**:"
      ]
    },
    {
      "cell_type": "code",
      "execution_count": null,
      "metadata": {
        "id": "qdE4IeW3dCxN"
      },
      "outputs": [],
      "source": [
        "f4 = lambda x: x**2 + 5\n",
        "f4(5)"
      ]
    },
    {
      "cell_type": "markdown",
      "metadata": {
        "id": "ucU-Mx64Xwq4"
      },
      "source": [
        "# Aula 4"
      ]
    },
    {
      "cell_type": "markdown",
      "metadata": {
        "id": "DZMi633RXzNx"
      },
      "source": [
        "## Pandas\n",
        "\n",
        "O Pandas é uma biblioteca para tratamento e manipulação de dados."
      ]
    },
    {
      "cell_type": "code",
      "execution_count": null,
      "metadata": {
        "id": "ZFiM3sK9YA3d"
      },
      "outputs": [],
      "source": [
        "import pandas as pd"
      ]
    },
    {
      "cell_type": "code",
      "execution_count": null,
      "metadata": {
        "colab": {
          "background_save": true
        },
        "id": "ZLTjy_0IZz6q"
      },
      "outputs": [],
      "source": [
        "url_dados = 'https://covid.ourworldindata.org/data/owid-covid-data.csv'\n",
        "dados = pd.read_csv(url_dados)\n",
        "dados"
      ]
    },
    {
      "cell_type": "code",
      "execution_count": null,
      "metadata": {
        "colab": {
          "background_save": true
        },
        "id": "1lYd83nMbf1D"
      },
      "outputs": [],
      "source": [
        "dados.head()"
      ]
    },
    {
      "cell_type": "code",
      "execution_count": null,
      "metadata": {
        "id": "RmXNowZcdh1Z"
      },
      "outputs": [],
      "source": [
        "dados.shape"
      ]
    },
    {
      "cell_type": "code",
      "execution_count": null,
      "metadata": {
        "id": "Z2ILYXasuFHT"
      },
      "outputs": [],
      "source": [
        "dados.columns.values.tolist()"
      ]
    },
    {
      "cell_type": "code",
      "execution_count": null,
      "metadata": {
        "id": "_z_prrhydnGA"
      },
      "outputs": [],
      "source": [
        "dados['continent']"
      ]
    },
    {
      "cell_type": "code",
      "execution_count": null,
      "metadata": {
        "id": "jD8S74IPdw-S"
      },
      "outputs": [],
      "source": [
        "dados['continent'].unique()"
      ]
    },
    {
      "cell_type": "code",
      "execution_count": null,
      "metadata": {
        "id": "a5Xqx1T1d4T-"
      },
      "outputs": [],
      "source": [
        "dados.describe()"
      ]
    },
    {
      "cell_type": "code",
      "execution_count": null,
      "metadata": {
        "id": "5n4eVpAGffzE"
      },
      "outputs": [],
      "source": [
        "dados.loc[0:10,'location']"
      ]
    },
    {
      "cell_type": "code",
      "execution_count": null,
      "metadata": {
        "id": "hBC7n40GxScs"
      },
      "outputs": [],
      "source": [
        "dados_bra = dados.loc[dados['location']=='Brazil']\n",
        "dados_bra\n"
      ]
    },
    {
      "cell_type": "code",
      "execution_count": null,
      "metadata": {
        "id": "z4i2xafgyTeR"
      },
      "outputs": [],
      "source": [
        "dados_bra[dados_bra['date']=='2022-07-06']"
      ]
    },
    {
      "cell_type": "code",
      "execution_count": null,
      "metadata": {
        "colab": {
          "background_save": true
        },
        "id": "ZOXBgh0qtZIl"
      },
      "outputs": [],
      "source": [
        "tempo = pd.to_datetime(dados_bra['date'])\n",
        "tempo"
      ]
    },
    {
      "cell_type": "code",
      "execution_count": null,
      "metadata": {
        "id": "y7A5DvgntlIH"
      },
      "outputs": [],
      "source": [
        "casos_bra = dados_bra['total_cases']\n",
        "casos_bra"
      ]
    },
    {
      "cell_type": "code",
      "execution_count": null,
      "metadata": {
        "id": "-DzEUWXYt0ug"
      },
      "outputs": [],
      "source": [
        "import matplotlib.pyplot as plt"
      ]
    },
    {
      "cell_type": "code",
      "execution_count": null,
      "metadata": {
        "id": "hvwiM6Srt4Ea"
      },
      "outputs": [],
      "source": [
        "plt.figure(figsize=(20,10))\n",
        "plt.plot(tempo,casos_bra)\n",
        "plt.xlabel('data')\n",
        "plt.ylabel('número de casos')\n",
        "plt.show()"
      ]
    },
    {
      "cell_type": "code",
      "execution_count": null,
      "metadata": {
        "id": "_UjEQ7r-zXEs"
      },
      "outputs": [],
      "source": [
        "import numpy as np\n",
        "dias = np.linspace(0,len(tempo),len(tempo))"
      ]
    },
    {
      "cell_type": "code",
      "execution_count": null,
      "metadata": {
        "id": "6RcmLhDZzgmC"
      },
      "outputs": [],
      "source": [
        "plt.figure(dpi=150)\n",
        "plt.plot(dias,casos_bra)\n",
        "plt.xlabel('dias')\n",
        "plt.ylabel('número de casos')\n",
        "plt.title('Evolução do Covid no Brasil')\n",
        "plt.grid(True)\n",
        "plt.show()"
      ]
    },
    {
      "cell_type": "code",
      "execution_count": null,
      "metadata": {
        "id": "7MCoQ6Qay7NI"
      },
      "outputs": [],
      "source": [
        "plt.figure(dpi=150)\n",
        "plt.plot(dias[-30:-1],casos_bra[-30:-1])\n",
        "plt.xlabel('data')\n",
        "plt.ylabel('número de casos')\n",
        "plt.title('número de casos nos últimos 30 dias')\n",
        "plt.grid(True)\n",
        "plt.show()"
      ]
    },
    {
      "cell_type": "code",
      "execution_count": null,
      "metadata": {
        "id": "YHQasSwGdrf0"
      },
      "outputs": [],
      "source": [
        "dados_AS = dados.loc[dados['continent'] == 'South America']\n",
        "dados_AS.tail()"
      ]
    },
    {
      "cell_type": "code",
      "execution_count": null,
      "metadata": {
        "id": "JsFXdUgPeQuu"
      },
      "outputs": [],
      "source": [
        "from datetime import date, timedelta"
      ]
    },
    {
      "cell_type": "code",
      "execution_count": null,
      "metadata": {
        "id": "3GAbsIjpqKeq"
      },
      "outputs": [],
      "source": [
        "hoje = date.today()\n",
        "hoje"
      ]
    },
    {
      "cell_type": "code",
      "execution_count": null,
      "metadata": {
        "id": "Ic_bpbTkeiTM"
      },
      "outputs": [],
      "source": [
        "hoje.strftime(\"%Y-%m-%d \")"
      ]
    },
    {
      "cell_type": "code",
      "execution_count": null,
      "metadata": {
        "id": "BDV6Jvvafm8F"
      },
      "outputs": [],
      "source": [
        "hoje = date.today()\n",
        "ontem = hoje - timedelta(days=1)\n",
        "ontem.strftime(\"%Y-%m-%d\")"
      ]
    },
    {
      "cell_type": "code",
      "execution_count": null,
      "metadata": {
        "id": "1BHWMp0LfLQY"
      },
      "outputs": [],
      "source": [
        "dados_AS.loc[dados_AS['date'] == ontem.strftime(\"%Y-%m-%d\")].head()"
      ]
    },
    {
      "cell_type": "code",
      "execution_count": null,
      "metadata": {
        "id": "_5PybjY1ri_5"
      },
      "outputs": [],
      "source": [
        "lugar = dados_AS.loc[dados_AS['date'] == ontem.strftime(\"%Y-%m-%d\")]['location']\n",
        "leitos_por_M = dados_AS.loc[dados_AS['date'] == ontem.strftime(\"%Y-%m-%d\")]['hospital_beds_per_thousand']"
      ]
    },
    {
      "cell_type": "code",
      "execution_count": null,
      "metadata": {
        "id": "7qwO-X9Or19M"
      },
      "outputs": [],
      "source": [
        "plt.figure(figsize=(16,8))\n",
        "plt.bar(lugar,leitos_por_M)\n",
        "plt.ylabel('Leitos por Milhão')\n",
        "plt.xlabel('Lugar')\n",
        "plt.show()"
      ]
    },
    {
      "cell_type": "markdown",
      "metadata": {
        "id": "Pe4nWi0HVaqV"
      },
      "source": [
        "# Aula 5"
      ]
    },
    {
      "cell_type": "markdown",
      "metadata": {
        "id": "oAYgLlhn-l_G"
      },
      "source": [
        "## Sympy"
      ]
    },
    {
      "cell_type": "code",
      "execution_count": null,
      "metadata": {
        "id": "zPRERGm7-swI"
      },
      "outputs": [],
      "source": [
        "from sympy import *"
      ]
    },
    {
      "cell_type": "code",
      "execution_count": null,
      "metadata": {
        "id": "EuONjLbnADax"
      },
      "outputs": [],
      "source": [
        "x = symbols('x')\n",
        "a = Integral(cos(x)*exp(x),x)\n",
        "Eq(a,a.doit())"
      ]
    },
    {
      "cell_type": "code",
      "execution_count": null,
      "metadata": {
        "id": "jUCsAD5xASfs"
      },
      "outputs": [],
      "source": [
        "z = symbols('z')\n",
        "b = Integral(sin(z)*z**3,z)\n",
        "Eq(b,b.doit())"
      ]
    },
    {
      "cell_type": "markdown",
      "metadata": {
        "id": "n0QlAPXSG_3z"
      },
      "source": [
        "Vamos agora resolver o seguinte problema:\n",
        "\n",
        "No instante $t=0$ uma partícula de massa $m$ é liberada a partir do repouso de uma altura $h$ e cai verticalmente. Admitindo que a força de resistência do ar seja proporcional à velocidade instantânea, de acordo com a relação $f_r = -cv$, pede-se: **a)** desenvolver as funções descrevendo a posição, a velocidade e a aceleração da partícula em função do tempo transcorrido após sua liberação; **b)** obter a velocidade terminal, adotando $m=1.0kg$, $h=100.0 m$, $c=0.8Ns/m$.<br>\n",
        "Solução:\n",
        "$$-cv - mg = m \\dfrac{dv}{dt}$$"
      ]
    },
    {
      "cell_type": "code",
      "execution_count": null,
      "metadata": {
        "id": "QS4942ExAixg"
      },
      "outputs": [],
      "source": [
        "m,g,h = symbols('m g h')\n",
        "c = symbols('c',nonzero=True,positive=True)\n",
        "t = symbols('t')\n",
        "v = Function('v')(t)"
      ]
    },
    {
      "cell_type": "markdown",
      "metadata": {
        "id": "L331c8JWHcEz"
      },
      "source": [
        "Reorganizando a equação de movimento:\n",
        "$$m \\dfrac{dv}{dt} +cv + mg = 0$$"
      ]
    },
    {
      "cell_type": "code",
      "execution_count": null,
      "metadata": {
        "id": "wsWIEJnKHMXz"
      },
      "outputs": [],
      "source": [
        "EqMov = Eq(m*v.diff(t) + c*v + m*g,0)\n",
        "EqMov"
      ]
    },
    {
      "cell_type": "code",
      "execution_count": null,
      "metadata": {
        "id": "RzcGayJ4He4x"
      },
      "outputs": [],
      "source": [
        "v_sol = dsolve(EqMov.lhs,v)\n",
        "v_sol"
      ]
    },
    {
      "cell_type": "code",
      "execution_count": null,
      "metadata": {
        "id": "3UJYVTfiHkKI"
      },
      "outputs": [],
      "source": [
        "v_sol.subs(t,0)"
      ]
    },
    {
      "cell_type": "code",
      "execution_count": null,
      "metadata": {
        "id": "2i0vCFt7HpXs"
      },
      "outputs": [],
      "source": [
        "C1 = solve(v_sol.subs(t,0).rhs,'C1')[0]\n",
        "C1"
      ]
    },
    {
      "cell_type": "code",
      "execution_count": null,
      "metadata": {
        "id": "e4NhIDIRHsHp"
      },
      "outputs": [],
      "source": [
        "v_sol = v_sol.subs('C1',C1).simplify()\n",
        "v_sol"
      ]
    },
    {
      "cell_type": "code",
      "execution_count": null,
      "metadata": {
        "id": "PCTQ31VgHvts"
      },
      "outputs": [],
      "source": [
        "a = v_sol.rhs.diff(t)\n",
        "a"
      ]
    },
    {
      "cell_type": "code",
      "execution_count": null,
      "metadata": {
        "id": "T5Sd0QjNHyxv"
      },
      "outputs": [],
      "source": [
        "x = integrate(v_sol.rhs,t)\n",
        "x"
      ]
    },
    {
      "cell_type": "code",
      "execution_count": null,
      "metadata": {
        "id": "WWUEoUO4H2sm"
      },
      "outputs": [],
      "source": [
        "x += h\n",
        "x"
      ]
    },
    {
      "cell_type": "code",
      "execution_count": null,
      "metadata": {
        "id": "JRUnfkYmH619"
      },
      "outputs": [],
      "source": [
        "valores = {m:1,h:100,c:0.8,g:9.8}"
      ]
    },
    {
      "cell_type": "code",
      "execution_count": null,
      "metadata": {
        "id": "6wk5J161H9vs"
      },
      "outputs": [],
      "source": [
        "v_num = v_sol.subs(valores).rhs\n",
        "v_num"
      ]
    },
    {
      "cell_type": "markdown",
      "metadata": {
        "id": "b2o-0DEiIDgE"
      },
      "source": [
        "Vamos vericar a velocidade máxima aplicando um limite fazendo o tempo tender a infinito"
      ]
    },
    {
      "cell_type": "code",
      "execution_count": null,
      "metadata": {
        "id": "-N1w5hmkIABG"
      },
      "outputs": [],
      "source": [
        "limit(v_num,t,oo)"
      ]
    },
    {
      "cell_type": "code",
      "execution_count": null,
      "metadata": {
        "id": "BYao7tXvIH2L"
      },
      "outputs": [],
      "source": [
        "x_num = x.subs(valores)\n",
        "x_num"
      ]
    },
    {
      "cell_type": "code",
      "execution_count": null,
      "metadata": {
        "id": "ePwTfD9wIUKu"
      },
      "outputs": [],
      "source": [
        "a_num = a.subs(valores)\n",
        "a_num"
      ]
    },
    {
      "cell_type": "code",
      "execution_count": null,
      "metadata": {
        "id": "AQcDxnDTIWkt"
      },
      "outputs": [],
      "source": [
        ""
      ]
    }
  ],
  "metadata": {
    "colab": {
      "collapsed_sections": [],
      "name": "CursoPython.ipynb",
      "toc_visible": true,
      "provenance": [],
      "include_colab_link": true
    },
    "kernelspec": {
      "display_name": "Python 3",
      "name": "python3"
    },
    "language_info": {
      "name": "python"
    }
  },
  "nbformat": 4,
  "nbformat_minor": 0
}